{
  "nbformat": 4,
  "nbformat_minor": 0,
  "metadata": {
    "colab": {
      "provenance": []
    },
    "kernelspec": {
      "name": "python3",
      "display_name": "Python 3"
    },
    "language_info": {
      "name": "python"
    }
  },
  "cells": [
    {
      "cell_type": "code",
      "execution_count": null,
      "metadata": {
        "id": "BRcOMLzRLZ4y"
      },
      "outputs": [],
      "source": []
    },
    {
      "cell_type": "markdown",
      "source": [
        "Answer 1: The number of multiplications required = n.k.m\n",
        "          and the number of additions required= n.k.(m-1).\n",
        "          For example , if we consider the following matrices \n",
        "          \\begin{align}\n",
        "        \\ M = \\begin{pmatrix}\n",
        "        \\ 1 & \\ 0 \\\\\n",
        "        \\ 0 & \\ 1 \n",
        "        \\end{pmatrix}\n",
        "    \\end{align}\n",
        "          \\begin{align}\n",
        "        \\ N = \\begin{pmatrix}\n",
        "        \\ 1 & \\ 0 \\\\\n",
        "        \\ 0 & \\ 1 \n",
        "        \\end{pmatrix}\n",
        "    \\end{align}\n",
        "Considering matrices M(2,2) & N(2,2), <br> the number of multiplications involved in the matrices mutiplication = n.k.m = 2x2x2 =8 <br> while the number of additions =n.k.(m-1) = 2x2x(2-1) =4.\n",
        "<br>Now, proceeding with the matrix mutiplication of  matrices M(2x2) & N(2x2).<br> we get\n",
        " \\begin{align}\n",
        "        \\ M*N = \\begin{pmatrix}\n",
        "        \\ 1⋅1+0⋅0 & \\ 1⋅0+0⋅1 \\\\\n",
        "        \\ 0⋅1+1⋅0 & \\ 0⋅0+1⋅0 \n",
        "        \\end{pmatrix}\n",
        "    \\end{align}\n",
        "from the above we can verify the number of multiplications and addition hence required for the matrices multiplication.\n",
        "\n"
      ],
      "metadata": {
        "id": "K3gfRFkiSe0Z"
      }
    },
    {
      "cell_type": "code",
      "source": [
        "# Answer2\n",
        "# Matrix Multiplication using Lists of List.\n",
        "import time\n",
        "A = [[1, 2, 3, 4],[5, 6, 7, 8],[9, 10, 11, 12]]\n",
        "B = [[1, 2, 3],[5, 6, 7],[9, 10, 11],[3, 4, 5]]\n",
        "result= [[0,0,0,0],[0,0,0,0],[0,0,0,0]]\n",
        "start = time.time()\n",
        "for i in range(len(A)):\n",
        "  for j in range(len(B[0])):\n",
        "    for k in range(len(B)):\n",
        "      result[i][j] += A[i][k] * B[k][j]\n",
        "end = time.time()     \n",
        "for r in result:\n",
        " print(r)\n",
        "excecution_time= start-end\n",
        "print(excecution_time)\n"
      ],
      "metadata": {
        "colab": {
          "base_uri": "https://localhost:8080/"
        },
        "id": "S4X-TBuZBGpc",
        "outputId": "2dd0d023-dc05-47bc-8657-f4ba268c6e83"
      },
      "execution_count": 9,
      "outputs": [
        {
          "output_type": "stream",
          "name": "stdout",
          "text": [
            "[50, 60, 70, 0]\n",
            "[122, 148, 174, 0]\n",
            "[194, 236, 278, 0]\n",
            "-0.00017261505126953125\n"
          ]
        }
      ]
    },
    {
      "cell_type": "code",
      "source": [
        "#Matrix Multiplication using numpy.\n",
        "import numpy as np;\n",
        "import time\n",
        "A = [[1, 2, 3, 4],[5, 6, 7, 8],[9, 10, 11, 12]]\n",
        "B = [[1, 2, 3],[5, 6, 7],[9, 10, 11],[3, 4, 5]]\n",
        "result= [[0,0,0,0],[0,0,0,0],[0,0,0,0]]\n",
        "start = time.time()\n",
        "result=np.dot(A,B)\n",
        "end = time.time()\n",
        "for r in result:\n",
        "  print(r)\n",
        "excecution_time= start-end\n",
        "print(excecution_time)\n"
      ],
      "metadata": {
        "colab": {
          "base_uri": "https://localhost:8080/"
        },
        "id": "fWRokSahJAeG",
        "outputId": "78abd818-8a76-4b0a-9918-f09d44b21a90"
      },
      "execution_count": 8,
      "outputs": [
        {
          "output_type": "stream",
          "name": "stdout",
          "text": [
            "[50 60 70]\n",
            "[122 148 174]\n",
            "[194 236 278]\n",
            "-0.000484466552734375\n"
          ]
        }
      ]
    },
    {
      "cell_type": "markdown",
      "source": [
        "As the execution of above both program takes place. The execution by numpy is faster as Numpy array collection of similar data-types that are densely packed in memory.Moreover, it divide a task into mutilple subtasksto carry out the process parrallelly ; as array size increases it will be execute faster."
      ],
      "metadata": {
        "id": "CBepCBqULjuD"
      }
    },
    {
      "cell_type": "markdown",
      "source": [
        "Answer 4:\n",
        "The gradient of the given function with respect to x & y is\n",
        "\n",
        "<br> $f(x,y) = x^2y+y^3 Sin(x)$\n",
        "\n",
        "<br> $\\frac{\\partial f}{\\partial x}=2xy + y^3 Cos(x)$\n",
        "\n",
        "<br> $\\frac{\\partial f}{\\partial y}= x^2+ 3y^2 Sin(x)$"
      ],
      "metadata": {
        "id": "gwbjjxoXVK_H"
      }
    },
    {
      "cell_type": "code",
      "source": [
        "# Answer 10\n",
        "import numpy as np\n",
        "# Generate a matrix of size 20x5 containing random numbersfrom the range 1 to 2\n",
        "matrix = np.random.uniform(1, 2, size=(20,5))\n",
        "print(matrix)\n",
        "import pandas as pd\n",
        "df = pd.DataFrame(matrix,columns=['a','b','c','d','e'])\n",
        "print(df)\n",
        "std = df.std(axis=0)\n",
        "max_std_column= std.idxmax()\n",
        "print(f'Column {max_std_column}has the highest standard deviation')\n",
        "mean = df.mean(axis=1)\n",
        "max_mean_column = mean.idxmin()\n",
        "print(f'Column {max_mean_column} has the highest mean') \n",
        "\n",
        "\n"
      ],
      "metadata": {
        "colab": {
          "base_uri": "https://localhost:8080/"
        },
        "id": "os9yO2NUX2oi",
        "outputId": "c0e2f668-2e97-48ac-9214-d25a1c87fd8e"
      },
      "execution_count": 23,
      "outputs": [
        {
          "output_type": "stream",
          "name": "stdout",
          "text": [
            "[[1.01563768 1.72736638 1.02465694 1.98294065 1.04578412]\n",
            " [1.43067812 1.99967581 1.61523281 1.84875388 1.19199709]\n",
            " [1.70539743 1.88151661 1.77329231 1.9493177  1.95609764]\n",
            " [1.57778824 1.39963515 1.57176975 1.46833066 1.79953746]\n",
            " [1.62646796 1.6572399  1.85369363 1.53000855 1.18801832]\n",
            " [1.50722962 1.82822708 1.04011664 1.36922988 1.34460088]\n",
            " [1.15923901 1.69103778 1.60246804 1.96982429 1.30666614]\n",
            " [1.37766498 1.89948183 1.37097506 1.61593493 1.81365104]\n",
            " [1.876035   1.51240037 1.81287634 1.60189796 1.56042367]\n",
            " [1.71123435 1.02054563 1.46191987 1.68492621 1.3845007 ]\n",
            " [1.96770484 1.84930802 1.98338381 1.79326946 1.51411004]\n",
            " [1.30825203 1.39645586 1.58413915 1.08724562 1.61967508]\n",
            " [1.78857823 1.47918677 1.05664338 1.62726644 1.10746969]\n",
            " [1.06397436 1.75246886 1.3183219  1.71429813 1.39850302]\n",
            " [1.15837344 1.06907561 1.15481854 1.48685787 1.36388424]\n",
            " [1.62025819 1.87404094 1.53834281 1.71945324 1.53585056]\n",
            " [1.69643439 1.24772991 1.94200904 1.35236472 1.41821517]\n",
            " [1.09953628 1.51430355 1.0051101  1.22165184 1.29070382]\n",
            " [1.49372114 1.34914794 1.93137935 1.40234208 1.45685464]\n",
            " [1.19980682 1.54364829 1.52571059 1.56113282 1.43997063]]\n",
            "           a         b         c         d         e\n",
            "0   1.015638  1.727366  1.024657  1.982941  1.045784\n",
            "1   1.430678  1.999676  1.615233  1.848754  1.191997\n",
            "2   1.705397  1.881517  1.773292  1.949318  1.956098\n",
            "3   1.577788  1.399635  1.571770  1.468331  1.799537\n",
            "4   1.626468  1.657240  1.853694  1.530009  1.188018\n",
            "5   1.507230  1.828227  1.040117  1.369230  1.344601\n",
            "6   1.159239  1.691038  1.602468  1.969824  1.306666\n",
            "7   1.377665  1.899482  1.370975  1.615935  1.813651\n",
            "8   1.876035  1.512400  1.812876  1.601898  1.560424\n",
            "9   1.711234  1.020546  1.461920  1.684926  1.384501\n",
            "10  1.967705  1.849308  1.983384  1.793269  1.514110\n",
            "11  1.308252  1.396456  1.584139  1.087246  1.619675\n",
            "12  1.788578  1.479187  1.056643  1.627266  1.107470\n",
            "13  1.063974  1.752469  1.318322  1.714298  1.398503\n",
            "14  1.158373  1.069076  1.154819  1.486858  1.363884\n",
            "15  1.620258  1.874041  1.538343  1.719453  1.535851\n",
            "16  1.696434  1.247730  1.942009  1.352365  1.418215\n",
            "17  1.099536  1.514304  1.005110  1.221652  1.290704\n",
            "18  1.493721  1.349148  1.931379  1.402342  1.456855\n",
            "19  1.199807  1.543648  1.525711  1.561133  1.439971\n",
            "Column chas the highest standard deviation\n",
            "Column 17 has the highest mean\n"
          ]
        }
      ]
    },
    {
      "cell_type": "code",
      "source": [
        "# Answer 13\n",
        "import numpy as np\n",
        "array = np.random.randint(16, size=(4,4))\n",
        "print(\"INPUT ARRAY:\\n\",array)\n",
        "print(\"\\nIndices of min element:\",np.argmin(array, axis=0))\n"
      ],
      "metadata": {
        "colab": {
          "base_uri": "https://localhost:8080/"
        },
        "id": "uZyJEYprbJy1",
        "outputId": "44160fa3-0a2b-4956-c0e1-e21d5c6a1ade"
      },
      "execution_count": 24,
      "outputs": [
        {
          "output_type": "stream",
          "name": "stdout",
          "text": [
            "INPUT ARRAY:\n",
            " [[10  0 12  9]\n",
            " [ 9 12  9  5]\n",
            " [ 2 13 11  8]\n",
            " [ 6  9  3 10]]\n",
            "\n",
            "Indices of min element: [2 0 3 1]\n"
          ]
        }
      ]
    }
  ]
}